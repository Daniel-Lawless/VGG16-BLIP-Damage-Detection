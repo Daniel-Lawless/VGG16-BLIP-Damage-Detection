{
 "cells": [
  {
   "cell_type": "code",
   "id": "initial_id",
   "metadata": {
    "collapsed": true,
    "ExecuteTime": {
     "end_time": "2025-09-21T11:04:23.009329Z",
     "start_time": "2025-09-21T11:04:18.508390Z"
    }
   },
   "source": [
    "import pandas as pd\n",
    "import numpy as np\n",
    "import matplotlib.pyplot as plt\n",
    "from keras.layers import Dense, Flatten, Input, Dropout\n",
    "from keras.applications import VGG16\n",
    "from keras.optimizers import Adam\n",
    "from keras.preprocessing import image\n",
    "from keras.models import Model, Sequential\n",
    "from tensorflow.keras.preprocessing.image import ImageDataGenerator\n",
    "import tensorflow as tf\n",
    "import random\n",
    "from PIL import Image\n",
    "from transformers import BlipProcessor, BlipForConditionalGeneration"
   ],
   "outputs": [
    {
     "name": "stderr",
     "output_type": "stream",
     "text": [
      "C:\\Users\\danie\\JupyterProjects\\venv\\Lib\\site-packages\\tqdm\\auto.py:21: TqdmWarning: IProgress not found. Please update jupyter and ipywidgets. See https://ipywidgets.readthedocs.io/en/stable/user_install.html\n",
      "  from .autonotebook import tqdm as notebook_tqdm\n"
     ]
    }
   ],
   "execution_count": 1
  },
  {
   "metadata": {
    "ExecuteTime": {
     "end_time": "2025-09-21T11:04:23.019462Z",
     "start_time": "2025-09-21T11:04:23.016033Z"
    }
   },
   "cell_type": "code",
   "source": [
    "# Set seed for reproducibility\n",
    "seed_value = 42\n",
    "random.seed(seed_value)\n",
    "np.random.seed(seed_value)\n",
    "tf.random.set_seed(seed_value)"
   ],
   "id": "7ec6a2d8398bd030",
   "outputs": [],
   "execution_count": 2
  },
  {
   "metadata": {
    "ExecuteTime": {
     "end_time": "2025-09-21T11:04:23.029583Z",
     "start_time": "2025-09-21T11:04:23.025981Z"
    }
   },
   "cell_type": "code",
   "source": [
    "# We will be using two pretrained models, we will use the VGG16 model, that was trained on the imagenet dataset, to extract features from\n",
    "# our images, we will then use the BLIP transformer to caption these images.\n",
    "\n",
    "# Define configuration\n",
    "batch_size = 32\n",
    "num_epochs = 8\n",
    "img_row, img_col = 224, 224 # VGG16 was trained on images of size 224 x 224, so this is what we should rescale our images to.\n",
    "input_shape = (img_row, img_col, 3)"
   ],
   "id": "d8f098ec75a2fcd3",
   "outputs": [],
   "execution_count": 3
  },
  {
   "metadata": {
    "ExecuteTime": {
     "end_time": "2025-09-21T11:27:04.178599Z",
     "start_time": "2025-09-21T11:27:01.058401Z"
    }
   },
   "cell_type": "code",
   "source": [
    "import tarfile\n",
    "import os\n",
    "import urllib.request\n",
    "import shutil\n",
    "\n",
    "# url of the tar file\n",
    "url = \"https://cf-courses-data.s3.us.cloud-object-storage.appdomain.cloud/ZjXM4RKxlBK9__ZjHBLl5A/aircraft-damage-dataset-v1.tar\"\n",
    "\n",
    "print(f\"Current kernal directory: {os.getcwd()}\")\n",
    "\n",
    "# The name we want to give the tar file\n",
    "tar_filename = \"aircraft_damage_dataset_v1.tar\"\n",
    "\n",
    "# The folder where the contents of the tar file will be extracted into. We don't control this name,\n",
    "# it is made by the creator of the tar file.\n",
    "extracted_folder = \"aircraft_damage_dataset_v1\"\n",
    "\n",
    "# Go to the provided url and download the tar file, and name it aircraft_damage_dataset_v1.tar\n",
    "urllib.request.urlretrieve(url, tar_filename)\n",
    "print(f\"Downloaded {tar_filename}. Extraction will now begin...\")\n",
    "\n",
    "# If the extracted file already exists, then remove the existing file\n",
    "if os.path.exists(extracted_folder): # This path will be relative to the current directory.\n",
    "    print(f\"file {extracted_folder} already exists. removing {extracted_folder}... \")\n",
    "\n",
    "    # Remove the folder.\n",
    "    shutil.rmtree(extracted_folder)\n",
    "    print(f\"File {extracted_folder} removed. \")\n",
    "\n",
    "# Extract the file contents\n",
    "with tarfile.open(tar_filename, \"r\") as tar:    # Open the tar file in read mode\n",
    "    tar.extractall(filter=\"data\")    # Since no path argument is passed, it will extract the contents into the current directory\n",
    "    print(f\"Extracted {extracted_folder} successfully.\")\n",
    "\n",
    "# Remove the tar file after extraction\n",
    "print(f\"Removing {tar_filename}...\")\n",
    "os.remove(tar_filename)\n",
    "print(f\"{tar_filename} removed.\")"
   ],
   "id": "1de44aedd815139c",
   "outputs": [
    {
     "name": "stdout",
     "output_type": "stream",
     "text": [
      "Current kernal directory: C:\\Users\\danie\\JupyterProjects\\VGG16-BLIP-Damage-Detection\n",
      "Downloaded aircraft_damage_dataset_v1.tar. Extraction will now begin...\n",
      "Extracted aircraft_damage_dataset_v1 successfully.\n",
      "Removing aircraft_damage_dataset_v1.tar...\n",
      "aircraft_damage_dataset_v1.tar removed.\n"
     ]
    }
   ],
   "execution_count": 24
  },
  {
   "metadata": {
    "ExecuteTime": {
     "end_time": "2025-09-21T11:04:27.399719Z",
     "start_time": "2025-09-21T11:04:27.396967Z"
    }
   },
   "cell_type": "code",
   "source": [
    "# We're currently in \\Users\\danie\\JupyterProject. To get to the train, test, and validation directories, we have to go into the\n",
    "# extracted folder\n",
    "# os.path.join concatenates the paths correctly depending on the operating system we're using.\n",
    "# These variables contain the complete file path to our data folders.\n",
    "train_dir = os.path.join(extracted_folder, \"train\")\n",
    "test_dir = os.path.join(extracted_folder, \"test\")\n",
    "valid_dir = os.path.join(extracted_folder, \"valid\")"
   ],
   "id": "2555260b2c04b13a",
   "outputs": [],
   "execution_count": 5
  },
  {
   "metadata": {
    "ExecuteTime": {
     "end_time": "2025-09-21T11:04:27.409962Z",
     "start_time": "2025-09-21T11:04:27.407353Z"
    }
   },
   "cell_type": "code",
   "source": [
    "# This creates ImageDataGenerator objects, we're making 'blueprints' for what we want to happen when we call the flow_from_directory function next.\n",
    "# We can also use the ImageDataGenerator class for data augmentation, for instance we can create new datapoints by flipping, zooming into, and rotating\n",
    "# images already present in our data.\n",
    "train_data_gen = ImageDataGenerator(rescale=1./255)\n",
    "test_data_gen = ImageDataGenerator(rescale=1./255)\n",
    "valid_data_gen = ImageDataGenerator(rescale=1./255)"
   ],
   "id": "e8610e149962fcfb",
   "outputs": [],
   "execution_count": 6
  },
  {
   "metadata": {
    "ExecuteTime": {
     "end_time": "2025-09-21T11:04:27.437363Z",
     "start_time": "2025-09-21T11:04:27.417398Z"
    }
   },
   "cell_type": "code",
   "source": [
    "# Next, we use the flow_from_directory function. This function will\n",
    "# go to the directory \"train_dir\", load a batch of images, apply the rules from our blueprint\n",
    "# (i.e., in our case normalize them), rescale the images to 224 x 224 for VGG16,\n",
    "train_generator = train_data_gen.flow_from_directory(\n",
    "    train_dir, # The directory the function goes to look for images.\n",
    "    target_size=(img_row, img_col), # Rescale to a size VGG16 expects\n",
    "    batch_size=batch_size, # The number of images we collect at a time.\n",
    "    seed=seed_value,  # Ensure random processes, like shuffling, are reproducible\n",
    "    class_mode='binary', # Binary classification since we have 2 classes, 'dent' or 'crack'\n",
    "    shuffle=True # shuffles the order of the training images before each full pass through the training data (epoch)\n",
    ")\n",
    "# The generator expects the train directory, train_dir, to have subcategories. The flow_from_directory method\n",
    "# will assign the training examples in each subcategory to a class by alphanumerical order. For example, we have the\n",
    "# sub categories crack and dent, c comes before d, therefore training examples in directory crack will have class label 0,\n",
    "# and dent will have class label 1. We can confirm this by printing the class indices.\n",
    "print(train_generator.class_indices)"
   ],
   "id": "9d5cf22503c9a98b",
   "outputs": [
    {
     "name": "stdout",
     "output_type": "stream",
     "text": [
      "Found 300 images belonging to 2 classes.\n",
      "{'crack': 0, 'dent': 1}\n"
     ]
    }
   ],
   "execution_count": 7
  },
  {
   "metadata": {
    "ExecuteTime": {
     "end_time": "2025-09-21T11:04:27.468238Z",
     "start_time": "2025-09-21T11:04:27.445962Z"
    }
   },
   "cell_type": "code",
   "source": [
    "# Create a validation set generator that loads images from the validation directory, normalizes it, resizes them to a size\n",
    "# VGG16 expects, groups them into batches, assigns 0 and 1 to the subdirectories, and shuffles the images after\n",
    "# each epoch.\n",
    "valid_generator = valid_data_gen.flow_from_directory(\n",
    "    valid_dir,\n",
    "    target_size=(img_row, img_col),\n",
    "    batch_size=batch_size,\n",
    "    seed=seed_value,\n",
    "    class_mode='binary',\n",
    "    shuffle=True\n",
    ")\n",
    "\n",
    "# Create a validation set generator that loads images from the validation directory, normalizes it, resizes them to a size\n",
    "# VGG16 expects, groups them into batches, assigns 0 and 1 to the subdirectories, and shuffles the images after\n",
    "# each epoch.\n",
    "test_generator = test_data_gen.flow_from_directory(\n",
    "    test_dir,\n",
    "    target_size=(img_row, img_col),\n",
    "    batch_size=batch_size,\n",
    "    seed=seed_value,\n",
    "    class_mode='binary',\n",
    "    shuffle=True\n",
    ")"
   ],
   "id": "bce39c725797d598",
   "outputs": [
    {
     "name": "stdout",
     "output_type": "stream",
     "text": [
      "Found 96 images belonging to 2 classes.\n",
      "Found 50 images belonging to 2 classes.\n"
     ]
    }
   ],
   "execution_count": 8
  },
  {
   "metadata": {
    "ExecuteTime": {
     "end_time": "2025-09-21T11:04:27.775719Z",
     "start_time": "2025-09-21T11:04:27.472545Z"
    }
   },
   "cell_type": "code",
   "source": [
    "# Load the VGG16 model\n",
    "base_model = VGG16(\n",
    "    weights=\"imagenet\", # Loads the model with the weights it learned during the ImageNet competition\n",
    "    include_top=False, # This gives us the feature extraction part of the VGG16 model, not the classifier part.\n",
    "    input_shape=(img_row, img_col, 3))\n",
    "\n",
    "# A CNN can be thought of as two parts, the base and the top. The base are the convolutional and pooling layers,\n",
    "# they're responsible for feature extraction, identifying simple features like edges and corners in the early layers,\n",
    "# and eventually objects like an eye or a wheel in the later layers. The top is the \"conventional\" portion of the CNN,\n",
    "# where we use the dense, fully connected layers to take the list of features found from the base and make a final\n",
    "# classification based on them. Since the top for the VGG16 model was configured to classify 1000 classes, this\n",
    "# is not what we want, hence why we remove it here."
   ],
   "id": "fb4c80c5afd35e7c",
   "outputs": [],
   "execution_count": 9
  },
  {
   "metadata": {
    "ExecuteTime": {
     "end_time": "2025-09-21T11:04:27.786740Z",
     "start_time": "2025-09-21T11:04:27.780283Z"
    }
   },
   "cell_type": "code",
   "source": [
    "# returns the output of the last layer of the base\n",
    "output = base_model.layers[-1].output\n",
    "\n",
    "# Since the output of the last layer is a multidimensional tensor, we pass it through a\n",
    "# flatten layer to flatten it into a 1d vector that the conventional portion expects\n",
    "output = Flatten()(output)\n",
    "\n",
    "# We build a new model that starts at the input of the original base model, and ends at the\n",
    "# new flattened layer we just created.\n",
    "base_model = Model(inputs=base_model.input, outputs=output)\n",
    "\n",
    "# Freeze the layers of the base portion to preserve their pretrained knowledge\n",
    "for layer in base_model.layers:\n",
    "    layer.trainable = False"
   ],
   "id": "6e8bb4a703400e7d",
   "outputs": [],
   "execution_count": 10
  },
  {
   "metadata": {
    "ExecuteTime": {
     "end_time": "2025-09-21T11:11:52.684447Z",
     "start_time": "2025-09-21T11:10:06.676881Z"
    }
   },
   "cell_type": "code",
   "source": [
    "# Builds the top\n",
    "model = Sequential([\n",
    "    base_model, # Build on top of the base model\n",
    "    Dense(512, activation='relu'),\n",
    "    Dropout(0.3), # Takes the activations from the previous layer and sets 30% of them to 0. Helping to prevent overfitting.\n",
    "    Dense(512, activation='relu'),\n",
    "    Dropout(0.3),\n",
    "    Dense(1, activation='sigmoid')\n",
    "])\n",
    "\n",
    "# Define the optimizer, loss, and evaluation metrics.\n",
    "model.compile(optimizer=\"adam\", loss=\"binary_crossentropy\", metrics=[\"accuracy\"])\n",
    "\n",
    "# Train model\n",
    "model.fit(train_generator, epochs=num_epochs, verbose=2, validation_data=valid_generator)"
   ],
   "id": "d602e310f0c61e70",
   "outputs": [
    {
     "name": "stdout",
     "output_type": "stream",
     "text": [
      "Epoch 1/5\n",
      "10/10 - 23s - 2s/step - accuracy: 0.5033 - loss: 2.3274 - val_accuracy: 0.5000 - val_loss: 0.9844\n",
      "Epoch 2/5\n",
      "10/10 - 21s - 2s/step - accuracy: 0.5567 - loss: 1.1239 - val_accuracy: 0.6250 - val_loss: 0.6429\n",
      "Epoch 3/5\n",
      "10/10 - 21s - 2s/step - accuracy: 0.6300 - loss: 0.7393 - val_accuracy: 0.6875 - val_loss: 0.6065\n",
      "Epoch 4/5\n",
      "10/10 - 21s - 2s/step - accuracy: 0.7333 - loss: 0.5910 - val_accuracy: 0.6771 - val_loss: 0.5916\n",
      "Epoch 5/5\n",
      "10/10 - 21s - 2s/step - accuracy: 0.8167 - loss: 0.4080 - val_accuracy: 0.7396 - val_loss: 0.4835\n"
     ]
    },
    {
     "data": {
      "text/plain": [
       "<keras.src.callbacks.history.History at 0x22503fff250>"
      ]
     },
     "execution_count": 19,
     "metadata": {},
     "output_type": "execute_result"
    }
   ],
   "execution_count": 19
  },
  {
   "metadata": {
    "ExecuteTime": {
     "end_time": "2025-09-21T11:11:52.707891Z",
     "start_time": "2025-09-21T11:11:52.705162Z"
    }
   },
   "cell_type": "code",
   "source": [
    "# The model.fit() function returns a history object which holds the values of our train and validation loss and evaluation\n",
    "# metrics at the end of each epoch. We can access this dictionary using .history on the history object, we can then use these\n",
    "# values for plotting.\n",
    "train_history = model.history.history"
   ],
   "id": "f70133efadd99731",
   "outputs": [],
   "execution_count": 20
  },
  {
   "metadata": {
    "ExecuteTime": {
     "end_time": "2025-09-21T11:11:52.911277Z",
     "start_time": "2025-09-21T11:11:52.732102Z"
    }
   },
   "cell_type": "code",
   "source": [
    "# Define number of plots and plot size\n",
    "fig, ax = plt.subplots(1, 2, figsize=(10, 5))\n",
    "\n",
    "# Metrics we want to plot\n",
    "metrics_to_plot = [\"loss\", \"accuracy\"]\n",
    "\n",
    "for i, metric in enumerate(metrics_to_plot):\n",
    "    # Plot the loss for the first iteration, then the accuracy on the second\n",
    "    ax[i].plot(train_history[metric], label=f\"train {metric.capitalize()}\")\n",
    "    ax[i].plot(train_history[f\"val_{metric}\"], label=f\"val {metric.capitalize()}\")\n",
    "\n",
    "    # Define the title and x,y labels for each graph\n",
    "    ax[i].set_title(f\"Train/Validation {metric.capitalize()}\")\n",
    "    ax[i].set_xlabel('Epochs')\n",
    "    ax[i].set_ylabel(metric)\n",
    "\n",
    "    # Display the legends for each graph\n",
    "    ax[i].legend()\n",
    "\n",
    "# Show graphs\n",
    "plt.show()"
   ],
   "id": "874519c94a4b15d6",
   "outputs": [
    {
     "data": {
      "text/plain": [
       "<Figure size 1000x500 with 2 Axes>"
      ],
      "image/png": "[encoded data removed]"
     },
     "metadata": {},
     "output_type": "display_data"
    }
   ],
   "execution_count": 21
  },
  {
   "metadata": {
    "ExecuteTime": {
     "end_time": "2025-09-21T11:11:54.759385Z",
     "start_time": "2025-09-21T11:11:52.918242Z"
    }
   },
   "cell_type": "code",
   "source": [
    "# Evaluate the trained model on the test dataset. The steps parameter tells the model.evaluate function how many\n",
    "# batches to run to do a full pass of the test dataset. The test_generator provides a pair (images, true labels)\n",
    "# for each batch. When we run the function it feeds to images into the model to get the predictions, which it then\n",
    "# compares to the true labels, which it will use to calculate the loss and accuracy, it repeats this for all batches\n",
    "# and takes the average loss and accuracy as the final performance metrics.\n",
    "test_loss, test_accuracy = model.evaluate(test_generator, steps=test_generator.samples // test_generator.batch_size)\n",
    "print(f\"Test loss: {test_loss:.4f}, Test accuracy: {test_accuracy:.4f}\")"
   ],
   "id": "780b368daaf4d16c",
   "outputs": [
    {
     "name": "stdout",
     "output_type": "stream",
     "text": [
      "\u001B[1m1/1\u001B[0m \u001B[32m━━━━━━━━━━━━━━━━━━━━\u001B[0m\u001B[37m\u001B[0m \u001B[1m2s\u001B[0m 2s/step - accuracy: 0.8438 - loss: 0.4796\n",
      "Test loss: 0.4796, Test accuracy: 0.8438\n"
     ]
    }
   ],
   "execution_count": 22
  },
  {
   "metadata": {},
   "cell_type": "code",
   "outputs": [],
   "execution_count": null,
   "source": "",
   "id": "77b1b79da70b3e89"
  }
 ],
 "metadata": {
  "kernelspec": {
   "display_name": "Python 3",
   "language": "python",
   "name": "python3"
  },
  "language_info": {
   "codemirror_mode": {
    "name": "ipython",
    "version": 2
   },
   "file_extension": ".py",
   "mimetype": "text/x-python",
   "name": "python",
   "nbconvert_exporter": "python",
   "pygments_lexer": "ipython2",
   "version": "2.7.6"
  }
 },
 "nbformat": 4,
 "nbformat_minor": 5
}
